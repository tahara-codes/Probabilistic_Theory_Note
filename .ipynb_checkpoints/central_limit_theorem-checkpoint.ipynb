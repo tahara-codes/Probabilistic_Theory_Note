{
 "cells": [
  {
   "cell_type": "code",
   "execution_count": 6,
   "id": "95be9c62-602b-4a94-954c-833b1405efe9",
   "metadata": {},
   "outputs": [],
   "source": [
    "import numpy as np\n",
    "import matplotlib.pyplot as plt"
   ]
  },
  {
   "cell_type": "code",
   "execution_count": 7,
   "id": "8e3a2a86-5c4f-4165-80b2-14abff8ae4ec",
   "metadata": {},
   "outputs": [],
   "source": [
    "from decimal import Decimal"
   ]
  },
  {
   "cell_type": "code",
   "execution_count": 20,
   "id": "d9deb060-4fb7-4f24-88e1-e6c5a7a79a7a",
   "metadata": {},
   "outputs": [
    {
     "ename": "AttributeError",
     "evalue": "'float' object has no attribute 'mean'",
     "output_type": "error",
     "traceback": [
      "\u001b[0;31m---------------------------------------------------------------------------\u001b[0m",
      "\u001b[0;31mAttributeError\u001b[0m                            Traceback (most recent call last)",
      "Input \u001b[0;32mIn [32]\u001b[0m, in \u001b[0;36m<cell line: 3>\u001b[0;34m()\u001b[0m\n\u001b[1;32m      3\u001b[0m \u001b[38;5;28;01mfor\u001b[39;00m i \u001b[38;5;129;01min\u001b[39;00m \u001b[38;5;28mrange\u001b[39m(sample_size):\n\u001b[1;32m      4\u001b[0m     arr \u001b[38;5;241m=\u001b[39m np\u001b[38;5;241m.\u001b[39mrandom\u001b[38;5;241m.\u001b[39muniform(low \u001b[38;5;241m=\u001b[39m \u001b[38;5;241m0.0\u001b[39m, high \u001b[38;5;241m=\u001b[39m \u001b[38;5;241m1.0\u001b[39m)\n\u001b[0;32m----> 5\u001b[0m     mean \u001b[38;5;241m=\u001b[39m \u001b[43marr\u001b[49m\u001b[38;5;241;43m.\u001b[39;49m\u001b[43mmean\u001b[49m()\n\u001b[1;32m      6\u001b[0m     \u001b[38;5;28mlist\u001b[39m\u001b[38;5;241m.\u001b[39mappend(mean)\n",
      "\u001b[0;31mAttributeError\u001b[0m: 'float' object has no attribute 'mean'"
     ]
    }
   ],
   "source": [
    "list = []\n",
    "sample_size = 10000\n",
    "for i in range(sample_size):\n",
    "    arr = np.random.random_sample(100)\n",
    "    mean = arr.mean()\n",
    "    list.append(mean)"
   ]
  },
  {
   "cell_type": "code",
   "execution_count": 19,
   "id": "9cda0c3a-ef1b-49f0-aa5c-861b90f72a9f",
   "metadata": {},
   "outputs": [
    {
     "data": {
      "text/plain": [
       "(array([0., 0., 0., 0., 0., 0., 0., 0., 0., 0., 0., 0., 0., 0., 0., 0., 0.,\n",
       "        0., 0., 0., 0., 0., 0., 0., 0., 0., 0., 0., 0., 0., 0., 0., 0., 0.,\n",
       "        0., 0., 0., 0., 0., 0., 0., 0., 0., 0., 0., 0., 0., 0., 0., 0., 0.,\n",
       "        0., 0., 0., 0., 0., 0., 0., 0., 0., 0., 0., 0., 0., 0., 0., 0., 0.,\n",
       "        0., 0., 0., 0., 0., 0., 0., 0., 0., 0., 0., 0., 0., 0., 0., 0., 0.,\n",
       "        0., 0., 0., 0., 0., 0., 0., 0., 0., 0., 0., 0., 0., 0., 0.]),\n",
       " array([0.3  , 0.304, 0.308, 0.312, 0.316, 0.32 , 0.324, 0.328, 0.332,\n",
       "        0.336, 0.34 , 0.344, 0.348, 0.352, 0.356, 0.36 , 0.364, 0.368,\n",
       "        0.372, 0.376, 0.38 , 0.384, 0.388, 0.392, 0.396, 0.4  , 0.404,\n",
       "        0.408, 0.412, 0.416, 0.42 , 0.424, 0.428, 0.432, 0.436, 0.44 ,\n",
       "        0.444, 0.448, 0.452, 0.456, 0.46 , 0.464, 0.468, 0.472, 0.476,\n",
       "        0.48 , 0.484, 0.488, 0.492, 0.496, 0.5  , 0.504, 0.508, 0.512,\n",
       "        0.516, 0.52 , 0.524, 0.528, 0.532, 0.536, 0.54 , 0.544, 0.548,\n",
       "        0.552, 0.556, 0.56 , 0.564, 0.568, 0.572, 0.576, 0.58 , 0.584,\n",
       "        0.588, 0.592, 0.596, 0.6  , 0.604, 0.608, 0.612, 0.616, 0.62 ,\n",
       "        0.624, 0.628, 0.632, 0.636, 0.64 , 0.644, 0.648, 0.652, 0.656,\n",
       "        0.66 , 0.664, 0.668, 0.672, 0.676, 0.68 , 0.684, 0.688, 0.692,\n",
       "        0.696, 0.7  ]),\n",
       " <BarContainer object of 100 artists>)"
      ]
     },
     "execution_count": 33,
     "metadata": {},
     "output_type": "execute_result"
    },
    {
     "data": {
      "image/png": "[encoded data removed]",
      "text/plain": [
       "<Figure size 432x288 with 1 Axes>"
      ]
     },
     "metadata": {
      "needs_background": "light"
     },
     "output_type": "display_data"
    }
   ],
   "source": [
    "plt.hist(list, range=[0.3, 0.7], bins=100)"
   ]
  },
  {
   "cell_type": "code",
   "execution_count": null,
   "id": "70286194-b8f4-4065-a400-bed4c45291da",
   "metadata": {},
   "outputs": [],
   "source": []
  },
  {
   "cell_type": "code",
   "execution_count": null,
   "id": "ab2fe38c-95f4-492a-95c6-b1c5f38a2a9e",
   "metadata": {},
   "outputs": [],
   "source": []
  }
 ],
 "metadata": {
  "kernelspec": {
   "display_name": "Python 3 (ipykernel)",
   "language": "python",
   "name": "python3"
  },
  "language_info": {
   "codemirror_mode": {
    "name": "ipython",
    "version": 3
   },
   "file_extension": ".py",
   "mimetype": "text/x-python",
   "name": "python",
   "nbconvert_exporter": "python",
   "pygments_lexer": "ipython3",
   "version": "3.8.10"
  }
 },
 "nbformat": 4,
 "nbformat_minor": 5
}
