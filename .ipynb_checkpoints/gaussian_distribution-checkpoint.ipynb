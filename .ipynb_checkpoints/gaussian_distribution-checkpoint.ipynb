{
 "cells": [
  {
   "cell_type": "code",
   "execution_count": 25,
   "id": "3c8e4d4a-2d07-464b-b942-adc9f78d8fd8",
   "metadata": {},
   "outputs": [],
   "source": [
    "import numpy as np\n",
    "import matplotlib.pyplot as plt"
   ]
  },
  {
   "cell_type": "code",
   "execution_count": 49,
   "id": "a4213092-c84e-4371-b3f6-c40b581139bd",
   "metadata": {},
   "outputs": [
    {
     "data": {
      "text/plain": [
       "array([ 1.96621304e-06,  1.09704808e-06,  5.35911476e-07,  1.68871586e-06,\n",
       "        2.13090919e-07, -8.13738502e-07,  1.28141692e-06,  1.89591880e-07,\n",
       "       -1.28039059e-06,  3.91350869e-07, -1.02592431e-06,  1.45946406e-06,\n",
       "       -1.00505948e-06,  1.25427266e-06, -7.50993526e-07,  1.07845360e-06,\n",
       "       -2.51246785e-06,  1.56876760e-06, -1.30075486e-06,  3.77000883e-07,\n",
       "        6.42047578e-07, -1.62615554e-09, -5.49193801e-07, -2.10380333e-07,\n",
       "        7.59775300e-07,  9.64429389e-07,  4.72161524e-07,  1.45791476e-06,\n",
       "        1.11135341e-06, -1.61910573e-07,  1.00039545e-06, -3.70193070e-07,\n",
       "        1.16614156e-06, -5.38192806e-07,  6.43379827e-07, -1.93736058e-07,\n",
       "       -1.00118948e-06, -1.50825286e-06, -1.32689335e-06,  2.93757705e-07,\n",
       "        2.31915336e-07,  1.46389642e-07,  2.92187200e-07, -4.26941011e-07,\n",
       "       -7.55265053e-07,  2.21678335e-06, -1.72386867e-07,  1.39175769e-06,\n",
       "        8.03489854e-07, -9.25332470e-07,  9.12474232e-08,  1.50287318e-08,\n",
       "        1.28736220e-06,  6.05920555e-07,  4.37594949e-07, -5.28266501e-07,\n",
       "       -1.81619526e-06,  1.10516827e-06, -9.48874200e-07,  1.06791769e-06,\n",
       "        3.15815365e-07, -9.94440286e-07, -1.21721938e-06,  2.35774340e-06,\n",
       "        1.31308991e-06, -1.68161496e-06,  1.45218842e-06,  1.04035966e-06,\n",
       "       -5.60517493e-07,  1.20261986e-06, -4.44921559e-07, -3.35224659e-07,\n",
       "       -1.22278692e-06, -2.45228213e-06, -2.31908500e-08, -3.10282532e-07,\n",
       "       -1.20187083e-06,  3.36052114e-07,  5.52632984e-07, -6.48484928e-08,\n",
       "       -9.21835488e-07,  8.14126285e-08, -4.09081152e-07,  7.91809420e-07,\n",
       "       -2.85313304e-06,  1.26886986e-06,  9.73721845e-07, -4.73972374e-07,\n",
       "       -1.35787773e-06, -1.43852305e-07, -1.14458796e-07, -4.96625028e-07,\n",
       "        1.53087470e-06, -1.58056249e-06,  8.58996727e-07, -8.50356434e-07,\n",
       "        1.74638704e-06,  1.75113834e-06,  7.68154190e-08,  4.28693577e-07])"
      ]
     },
     "execution_count": 49,
     "metadata": {},
     "output_type": "execute_result"
    }
   ],
   "source": [
    "# Gaussian\n",
    "mu, sigma = 0, 0.000001\n",
    "sample = np.random.normal(mu, sigma, 100)\n",
    "sample"
   ]
  },
  {
   "cell_type": "code",
   "execution_count": 50,
   "id": "468365ab-ba03-40db-af74-ba3a6ff069a3",
   "metadata": {},
   "outputs": [
    {
     "data": {
      "text/plain": [
       "9.549524587648093e-08"
      ]
     },
     "execution_count": 50,
     "metadata": {},
     "output_type": "execute_result"
    }
   ],
   "source": [
    "# mean of Gaussian is nearly 0 with enough samples\n",
    "abs(mu - np.mean(sample))"
   ]
  },
  {
   "cell_type": "code",
   "execution_count": 51,
   "id": "d012d083-2042-4cb4-8949-75abc11ab52e",
   "metadata": {},
   "outputs": [
    {
     "data": {
      "image/png": "[encoded data removed]",
      "text/plain": [
       "<Figure size 432x288 with 1 Axes>"
      ]
     },
     "metadata": {
      "needs_background": "light"
     },
     "output_type": "display_data"
    }
   ],
   "source": [
    "count, bins, ignored = plt.hist(sample, bins=20, density=True)"
   ]
  },
  {
   "cell_type": "code",
   "execution_count": 52,
   "id": "46aff3f1-c100-4403-ad37-98bbd8a84013",
   "metadata": {},
   "outputs": [
    {
     "data": {
      "text/plain": [
       "array([  6811.6382888 ,  13846.84361234,  26300.78724008,  46677.27137257,\n",
       "        77403.55800906, 119932.01760544, 173631.33598466, 234876.63997686,\n",
       "       296872.72278963, 350606.13997049, 386889.98759382, 398909.3497243 ,\n",
       "       384308.2361076 , 345942.50025242, 290969.1192248 , 228669.70448531,\n",
       "       167914.85283581, 115209.51473744,  73859.49486938,  44242.84747953,\n",
       "        24762.73211089])"
      ]
     },
     "execution_count": 52,
     "metadata": {},
     "output_type": "execute_result"
    }
   ],
   "source": [
    "gaussian = 1 / (sigma * np.sqrt(2 * np.pi)) * np.exp( - (bins - mu)**2 / (2 * sigma**2) )\n",
    "gaussian"
   ]
  },
  {
   "cell_type": "code",
   "execution_count": 53,
   "id": "93bd1c5f-332d-4ea0-8676-be8938536966",
   "metadata": {},
   "outputs": [
    {
     "data": {
      "text/plain": [
       "[<matplotlib.lines.Line2D at 0x7f1126129af0>]"
      ]
     },
     "execution_count": 53,
     "metadata": {},
     "output_type": "execute_result"
    },
    {
     "data": {
      "image/png": "[encoded data removed]",
      "text/plain": [
       "<Figure size 432x288 with 1 Axes>"
      ]
     },
     "metadata": {
      "needs_background": "light"
     },
     "output_type": "display_data"
    }
   ],
   "source": [
    "plt.xlim(-1,1)\n",
    "plt.plot(bins, gaussian, linewidth=2, color='r')"
   ]
  },
  {
   "cell_type": "code",
   "execution_count": null,
   "id": "613b10b4-c6a9-4a2a-9a47-be824f597f84",
   "metadata": {},
   "outputs": [],
   "source": []
  }
 ],
 "metadata": {
  "kernelspec": {
   "display_name": "Python 3 (ipykernel)",
   "language": "python",
   "name": "python3"
  },
  "language_info": {
   "codemirror_mode": {
    "name": "ipython",
    "version": 3
   },
   "file_extension": ".py",
   "mimetype": "text/x-python",
   "name": "python",
   "nbconvert_exporter": "python",
   "pygments_lexer": "ipython3",
   "version": "3.8.10"
  }
 },
 "nbformat": 4,
 "nbformat_minor": 5
}
